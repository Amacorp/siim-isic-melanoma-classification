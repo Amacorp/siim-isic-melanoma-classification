{
 "cells": [
  {
   "cell_type": "markdown",
   "execution_count": null,
   "metadata": {
    "papermill": {
     "duration": 0.010116,
     "end_time": "2020-08-14T15:07:38.878724",
     "exception": false,
     "start_time": "2020-08-14T15:07:38.868608",
     "status": "completed"
    },
    "tags": []
   },
   "source": [
    "My notebook is a fork of this amazing kernel : https://www.kaggle.com/abiolatti/train-cv"
   ]
  },
  {
   "cell_type": "code",
   "execution_count": 1,
   "metadata": {
    "_cell_guid": "b1076dfc-b9ad-4769-8c92-a6c4dae69d19",
    "_uuid": "8f2839f25d086af736a60e9eeb907d3b93b6e0e5",
    "execution": {
     "iopub.execute_input": "2020-08-14T15:07:38.904850Z",
     "iopub.status.busy": "2020-08-14T15:07:38.903738Z",
     "iopub.status.idle": "2020-08-14T15:08:00.231208Z",
     "shell.execute_reply": "2020-08-14T15:08:00.230513Z"
    },
    "papermill": {
     "duration": 21.343614,
     "end_time": "2020-08-14T15:08:00.231341",
     "exception": false,
     "start_time": "2020-08-14T15:07:38.887727",
     "status": "completed"
    },
    "tags": []
   },
   "outputs": [
    {
     "name": "stdout",
     "output_type": "stream",
     "text": [
      "\u001b[33mWARNING: You are using pip version 20.1.1; however, version 20.2.2 is available.\r\n",
      "You should consider upgrading via the '/opt/conda/bin/python3.7 -m pip install --upgrade pip' command.\u001b[0m\r\n",
      "\u001b[33mWARNING: You are using pip version 20.1.1; however, version 20.2.2 is available.\r\n",
      "You should consider upgrading via the '/opt/conda/bin/python3.7 -m pip install --upgrade pip' command.\u001b[0m\r\n"
     ]
    }
   ],
   "source": [
    "!pip install -q efficientnet\n",
    "!pip install -q git+https://github.com/AmedeoBiolatti/dsqol"
   ]
  },
  {
   "cell_type": "code",
   "execution_count": 2,
   "metadata": {
    "_cell_guid": "79c7e3d0-c299-4dcb-8224-4455121ee9b0",
    "_uuid": "d629ff2d2480ee46fbb7e2d37f6b5fab8052498a",
    "execution": {
     "iopub.execute_input": "2020-08-14T15:08:00.259534Z",
     "iopub.status.busy": "2020-08-14T15:08:00.258724Z",
     "iopub.status.idle": "2020-08-14T15:08:07.580824Z",
     "shell.execute_reply": "2020-08-14T15:08:07.580207Z"
    },
    "papermill": {
     "duration": 7.340684,
     "end_time": "2020-08-14T15:08:07.580956",
     "exception": false,
     "start_time": "2020-08-14T15:08:00.240272",
     "status": "completed"
    },
    "tags": []
   },
   "outputs": [],
   "source": [
    "import os, re, time, tqdm\n",
    "import numpy as np\n",
    "import pandas as pd\n",
    "import matplotlib.pyplot as plt\n",
    "from sklearn import metrics, model_selection\n",
    "\n",
    "import tensorflow as tf\n",
    "import tensorflow_addons as tfa\n",
    "from tensorflow import keras \n",
    "from tensorflow.keras import backend as K\n",
    "from efficientnet import tfkeras as efnet\n",
    "\n",
    "from kaggle_datasets import KaggleDatasets"
   ]
  },
  {
   "cell_type": "code",
   "execution_count": 3,
   "metadata": {
    "execution": {
     "iopub.execute_input": "2020-08-14T15:08:07.605394Z",
     "iopub.status.busy": "2020-08-14T15:08:07.604347Z",
     "iopub.status.idle": "2020-08-14T15:08:07.611203Z",
     "shell.execute_reply": "2020-08-14T15:08:07.610461Z"
    },
    "papermill": {
     "duration": 0.021392,
     "end_time": "2020-08-14T15:08:07.611331",
     "exception": false,
     "start_time": "2020-08-14T15:08:07.589939",
     "status": "completed"
    },
    "tags": []
   },
   "outputs": [],
   "source": [
    "# my github for trivial but useful functions\n",
    "from dsqol.tf import imgaug\n",
    "from dsqol.tf.data import balance\n",
    "from dsqol.tf.utils import average\n",
    "from dsqol.tf import losses"
   ]
  },
  {
   "cell_type": "code",
   "execution_count": 4,
   "metadata": {
    "execution": {
     "iopub.execute_input": "2020-08-14T15:08:07.641709Z",
     "iopub.status.busy": "2020-08-14T15:08:07.640658Z",
     "iopub.status.idle": "2020-08-14T15:08:07.643419Z",
     "shell.execute_reply": "2020-08-14T15:08:07.643940Z"
    },
    "papermill": {
     "duration": 0.023538,
     "end_time": "2020-08-14T15:08:07.644100",
     "exception": false,
     "start_time": "2020-08-14T15:08:07.620562",
     "status": "completed"
    },
    "tags": []
   },
   "outputs": [],
   "source": [
    "# USE DIFFERENT SEED FOR DIFFERENT STRATIFIED KFOLD\n",
    "SEED = 42\n",
    "tf.random.set_seed(SEED)\n",
    "np.random.seed(SEED)\n",
    "\n",
    "TIME_BUDGET = 2.5 * 3600 # time budget allocated for the training (Kaggle has 3 hours max time)\n",
    "\n",
    "# \n",
    "#FOLDS = 5\n",
    "\n",
    "FOLDS = 6\n",
    "INCLUDE_2019 = 1\n",
    "INCLUDE_2018 = 1\n",
    "INCLUDE_MALIGNANT = 1\n",
    "\n",
    "# DATA PARAMS\n",
    "IMG_READ_SIZE     = 384\n",
    "IMG_SIZE          = 384\n",
    "BALANCE_POS_RATIO = 0.08\n",
    "\n",
    "# MODEL PARAMS\n",
    "EFF_NET      = 1\n",
    "# loss and loss params\n",
    "LOSS_TYPE    = 'BCE' # 'BCE', 'FOCAL'\n",
    "LOSS_PARAMS  = dict(label_smoothing=0.09)\n",
    "\n",
    "# TRAINING PARAMS\n",
    "BATCH_SIZE  = 64\n",
    "EPOCHS      = 25\n",
    "# lr schedule\n",
    "\n",
    "# VALID AND TEST PARAMS\n",
    "TBM        = 6\n",
    "TTA        = 15\n",
    "VALID_FREQ = 1\n",
    "N_SWA      = 3\n",
    "SWA_DECAY  = 0.9"
   ]
  },
  {
   "cell_type": "code",
   "execution_count": 5,
   "metadata": {
    "execution": {
     "iopub.execute_input": "2020-08-14T15:08:07.759815Z",
     "iopub.status.busy": "2020-08-14T15:08:07.710969Z",
     "iopub.status.idle": "2020-08-14T15:08:12.108046Z",
     "shell.execute_reply": "2020-08-14T15:08:12.107320Z"
    },
    "papermill": {
     "duration": 4.455058,
     "end_time": "2020-08-14T15:08:12.108265",
     "exception": false,
     "start_time": "2020-08-14T15:08:07.653207",
     "status": "completed"
    },
    "tags": []
   },
   "outputs": [
    {
     "name": "stdout",
     "output_type": "stream",
     "text": [
      "connecting to TPU...\n",
      "Running on TPU  grpc://10.0.0.2:8470\n",
      "initializing  TPU ...\n",
      "TPU initialized\n",
      "REPLICAS: 8\n"
     ]
    }
   ],
   "source": [
    "DEVICE = \"TPU\"\n",
    "print(\"connecting to TPU...\")\n",
    "try:\n",
    "    tpu = tf.distribute.cluster_resolver.TPUClusterResolver()\n",
    "    print('Running on TPU ', tpu.master())\n",
    "except ValueError:\n",
    "    print(\"Could not connect to TPU\")\n",
    "    tpu = None\n",
    "if tpu:\n",
    "    try:\n",
    "        print(\"initializing  TPU ...\")\n",
    "        tf.config.experimental_connect_to_cluster(tpu)\n",
    "        tf.tpu.experimental.initialize_tpu_system(tpu)\n",
    "        strategy = tf.distribute.experimental.TPUStrategy(tpu)\n",
    "        print(\"TPU initialized\")\n",
    "    except _:\n",
    "        print(\"failed to initialize TPU\")\n",
    "else:\n",
    "    DEVICE = \"GPU\"\n",
    "\n",
    "if DEVICE != \"TPU\":\n",
    "    print(\"Using default strategy for CPU and single GPU\")\n",
    "    strategy = tf.distribute.get_strategy()\n",
    "\n",
    "if DEVICE == \"GPU\":\n",
    "    print(\"Num GPUs Available: \", len(tf.config.experimental.list_physical_devices('GPU')))\n",
    "    \n",
    "AUTO              = tf.data.experimental.AUTOTUNE\n",
    "REPLICAS          = strategy.num_replicas_in_sync\n",
    "GLOBAL_BATCH_SIZE = BATCH_SIZE * REPLICAS\n",
    "print(\"REPLICAS: %d\" % REPLICAS)"
   ]
  },
  {
   "cell_type": "markdown",
   "execution_count": null,
   "metadata": {
    "papermill": {
     "duration": 0.008885,
     "end_time": "2020-08-14T15:08:12.126754",
     "exception": false,
     "start_time": "2020-08-14T15:08:12.117869",
     "status": "completed"
    },
    "tags": []
   },
   "source": [
    "## Preprocessing"
   ]
  },
  {
   "cell_type": "markdown",
   "execution_count": null,
   "metadata": {
    "papermill": {
     "duration": 0.009008,
     "end_time": "2020-08-14T15:08:12.144958",
     "exception": false,
     "start_time": "2020-08-14T15:08:12.135950",
     "status": "completed"
    },
    "tags": []
   },
   "source": [
    "https://www.kaggle.com/c/siim-isic-melanoma-classification/discussion/169139"
   ]
  },
  {
   "cell_type": "code",
   "execution_count": 6,
   "metadata": {
    "execution": {
     "iopub.execute_input": "2020-08-14T15:08:12.181661Z",
     "iopub.status.busy": "2020-08-14T15:08:12.170649Z",
     "iopub.status.idle": "2020-08-14T15:08:14.199599Z",
     "shell.execute_reply": "2020-08-14T15:08:14.198723Z"
    },
    "papermill": {
     "duration": 2.045706,
     "end_time": "2020-08-14T15:08:14.199742",
     "exception": false,
     "start_time": "2020-08-14T15:08:12.154036",
     "status": "completed"
    },
    "tags": []
   },
   "outputs": [],
   "source": [
    "GCS_PATH1 = KaggleDatasets().get_gcs_path('melanoma-%ix%i' % (IMG_READ_SIZE, IMG_READ_SIZE))\n",
    "GCS_PATH2 = KaggleDatasets().get_gcs_path('isic2019-%ix%i' % (IMG_READ_SIZE, IMG_READ_SIZE))\n",
    "GCS_PATH3 = KaggleDatasets().get_gcs_path('malignant-v2-%ix%i' % (IMG_READ_SIZE, IMG_READ_SIZE))"
   ]
  },
  {
   "cell_type": "code",
   "execution_count": 7,
   "metadata": {
    "execution": {
     "iopub.execute_input": "2020-08-14T15:08:14.224920Z",
     "iopub.status.busy": "2020-08-14T15:08:14.224107Z",
     "iopub.status.idle": "2020-08-14T15:08:14.324819Z",
     "shell.execute_reply": "2020-08-14T15:08:14.324117Z"
    },
    "papermill": {
     "duration": 0.115576,
     "end_time": "2020-08-14T15:08:14.324960",
     "exception": false,
     "start_time": "2020-08-14T15:08:14.209384",
     "status": "completed"
    },
    "tags": []
   },
   "outputs": [],
   "source": [
    "df_base_train = pd.read_csv(\"../input/siim-isic-melanoma-classification/train.csv\")\n",
    "df_base_test = pd.read_csv(\"../input/siim-isic-melanoma-classification/test.csv\")"
   ]
  },
  {
   "cell_type": "code",
   "execution_count": 8,
   "metadata": {
    "execution": {
     "iopub.execute_input": "2020-08-14T15:08:14.667786Z",
     "iopub.status.busy": "2020-08-14T15:08:14.457133Z",
     "iopub.status.idle": "2020-08-14T15:08:17.747782Z",
     "shell.execute_reply": "2020-08-14T15:08:17.746842Z"
    },
    "papermill": {
     "duration": 3.413361,
     "end_time": "2020-08-14T15:08:17.747915",
     "exception": false,
     "start_time": "2020-08-14T15:08:14.334554",
     "status": "completed"
    },
    "tags": []
   },
   "outputs": [
    {
     "name": "stdout",
     "output_type": "stream",
     "text": [
      "60 train files found\n"
     ]
    }
   ],
   "source": [
    "train_files = tf.io.gfile.glob(os.path.join(GCS_PATH1, \"train*.tfrec\"))\n",
    "#\n",
    "if INCLUDE_2019:\n",
    "    train_files += tf.io.gfile.glob([os.path.join(GCS_PATH2, \"train%.2i*.tfrec\" % i) for i in range(1, 30, 2)])\n",
    "if INCLUDE_2018:\n",
    "    train_files += tf.io.gfile.glob([os.path.join(GCS_PATH2, \"train%.2i*.tfrec\" % i) for i in range(0, 30, 2)])\n",
    "#\n",
    "if INCLUDE_MALIGNANT:\n",
    "    train_files += tf.io.gfile.glob([os.path.join(GCS_PATH3, \"train%.2i*.tfrec\" % i) for i in range(15, 30, 1)])\n",
    "print(\"%d train files found\" % len(train_files))"
   ]
  },
  {
   "cell_type": "code",
   "execution_count": 9,
   "metadata": {
    "execution": {
     "iopub.execute_input": "2020-08-14T15:08:17.838577Z",
     "iopub.status.busy": "2020-08-14T15:08:17.837608Z",
     "iopub.status.idle": "2020-08-14T15:08:17.841781Z",
     "shell.execute_reply": "2020-08-14T15:08:17.841042Z"
    },
    "papermill": {
     "duration": 0.084492,
     "end_time": "2020-08-14T15:08:17.841905",
     "exception": false,
     "start_time": "2020-08-14T15:08:17.757413",
     "status": "completed"
    },
    "tags": []
   },
   "outputs": [
    {
     "name": "stdout",
     "output_type": "stream",
     "text": [
      "16 test files found\n"
     ]
    }
   ],
   "source": [
    "test_files = tf.io.gfile.glob(os.path.join(GCS_PATH1, \"test*.tfrec\"))\n",
    "print(\"%d test files found\" % len(test_files))"
   ]
  },
  {
   "cell_type": "markdown",
   "execution_count": null,
   "metadata": {
    "papermill": {
     "duration": 0.00939,
     "end_time": "2020-08-14T15:08:17.860902",
     "exception": false,
     "start_time": "2020-08-14T15:08:17.851512",
     "status": "completed"
    },
    "tags": []
   },
   "source": [
    "## Data pipeline"
   ]
  },
  {
   "cell_type": "code",
   "execution_count": 10,
   "metadata": {
    "execution": {
     "iopub.execute_input": "2020-08-14T15:08:17.896258Z",
     "iopub.status.busy": "2020-08-14T15:08:17.895195Z",
     "iopub.status.idle": "2020-08-14T15:08:17.898005Z",
     "shell.execute_reply": "2020-08-14T15:08:17.898575Z"
    },
    "papermill": {
     "duration": 0.028355,
     "end_time": "2020-08-14T15:08:17.898741",
     "exception": false,
     "start_time": "2020-08-14T15:08:17.870386",
     "status": "completed"
    },
    "tags": []
   },
   "outputs": [],
   "source": [
    "def read_labeled_tfrecord(example):\n",
    "    tfrec_format = {\n",
    "        'image'                        : tf.io.FixedLenFeature([], tf.string),\n",
    "        'image_name'                   : tf.io.FixedLenFeature([], tf.string),\n",
    "        #'patient_id'                   : tf.io.FixedLenFeature([], tf.int64),\n",
    "        #'sex'                          : tf.io.FixedLenFeature([], tf.int64),\n",
    "        #'age_approx'                   : tf.io.FixedLenFeature([], tf.int64),\n",
    "        #'anatom_site_general_challenge': tf.io.FixedLenFeature([], tf.int64),\n",
    "        #'diagnosis'                    : tf.io.FixedLenFeature([], tf.int64),\n",
    "        'target'                       : tf.io.FixedLenFeature([], tf.int64)\n",
    "    }           \n",
    "    example = tf.io.parse_single_example(example, tfrec_format)\n",
    "    return example['image'], example['target']\n",
    "\n",
    "\n",
    "def read_unlabeled_tfrecord(example, return_image_name=True):\n",
    "    tfrec_format = {\n",
    "        'image'                        : tf.io.FixedLenFeature([], tf.string),\n",
    "        'image_name'                   : tf.io.FixedLenFeature([], tf.string),\n",
    "    }\n",
    "    example = tf.io.parse_single_example(example, tfrec_format)\n",
    "    return example['image'], example['image_name'] if return_image_name else 0\n",
    "\n",
    "\n",
    "def prepare_image(img):    \n",
    "    img = tf.image.decode_jpeg(img, channels=3)\n",
    "    img = tf.cast(img, tf.float32) / 255.0           \n",
    "    return img\n",
    "\n",
    "\n",
    "def count_data_items(filenames):\n",
    "    n = [int(re.compile(r\"-([0-9]*)\\.\").search(filename).group(1)) \n",
    "         for filename in filenames]\n",
    "    return np.sum(n)"
   ]
  },
  {
   "cell_type": "code",
   "execution_count": 11,
   "metadata": {
    "execution": {
     "iopub.execute_input": "2020-08-14T15:08:17.936799Z",
     "iopub.status.busy": "2020-08-14T15:08:17.936038Z",
     "iopub.status.idle": "2020-08-14T15:08:17.939055Z",
     "shell.execute_reply": "2020-08-14T15:08:17.939634Z"
    },
    "papermill": {
     "duration": 0.031391,
     "end_time": "2020-08-14T15:08:17.939799",
     "exception": false,
     "start_time": "2020-08-14T15:08:17.908408",
     "status": "completed"
    },
    "tags": []
   },
   "outputs": [],
   "source": [
    "# https://www.kaggle.com/cdeotte/tfrecord-experiments-upsample-and-coarse-dropout\n",
    "def dropout(image, DIM=256, PROBABILITY = 0.75, CT = 8, SZ = 0.2):\n",
    "    # input image - is one image of size [dim,dim,3] not a batch of [b,dim,dim,3]\n",
    "    # output - image with CT squares of side size SZ*DIM removed\n",
    "    \n",
    "    # DO DROPOUT WITH PROBABILITY DEFINED ABOVE\n",
    "    P = tf.cast( tf.random.uniform([],0,1)<PROBABILITY, tf.int32)\n",
    "    if (P==0)|(CT==0)|(SZ==0): \n",
    "        return image\n",
    "    \n",
    "    for k in range(CT):\n",
    "        # CHOOSE RANDOM LOCATION\n",
    "        x = tf.cast( tf.random.uniform([],0,DIM),tf.int32)\n",
    "        y = tf.cast( tf.random.uniform([],0,DIM),tf.int32)\n",
    "        # COMPUTE SQUARE \n",
    "        WIDTH = tf.cast( SZ*DIM,tf.int32) * P\n",
    "        ya = tf.math.maximum(0,y-WIDTH//2)\n",
    "        yb = tf.math.minimum(DIM,y+WIDTH//2)\n",
    "        xa = tf.math.maximum(0,x-WIDTH//2)\n",
    "        xb = tf.math.minimum(DIM,x+WIDTH//2)\n",
    "        # DROPOUT IMAGE\n",
    "        one = image[ya:yb,0:xa,:]\n",
    "        two = tf.zeros([yb-ya,xb-xa,3]) \n",
    "        three = image[ya:yb,xb:DIM,:]\n",
    "        middle = tf.concat([one,two,three],axis=1)\n",
    "        image = tf.concat([image[0:ya,:,:],middle,image[yb:DIM,:,:]],axis=0)\n",
    "            \n",
    "    # RESHAPE HACK SO TPU COMPILER KNOWS SHAPE OF OUTPUT TENSOR \n",
    "    image = tf.reshape(image,[DIM,DIM,3])\n",
    "    return image"
   ]
  },
  {
   "cell_type": "code",
   "execution_count": 12,
   "metadata": {
    "execution": {
     "iopub.execute_input": "2020-08-14T15:08:17.971227Z",
     "iopub.status.busy": "2020-08-14T15:08:17.970454Z",
     "iopub.status.idle": "2020-08-14T15:08:17.973407Z",
     "shell.execute_reply": "2020-08-14T15:08:17.973932Z"
    },
    "papermill": {
     "duration": 0.024599,
     "end_time": "2020-08-14T15:08:17.974096",
     "exception": false,
     "start_time": "2020-08-14T15:08:17.949497",
     "status": "completed"
    },
    "tags": []
   },
   "outputs": [],
   "source": [
    "def base_aug(img):\n",
    "    img = tf.image.random_flip_left_right(img)\n",
    "    #img = tf.image.random_hue(img, 0.01)\n",
    "    img = tf.image.random_saturation(img, 0.7, 1.3)\n",
    "    img = tf.image.random_contrast(img, 0.8, 1.2)\n",
    "    img = tf.image.random_brightness(img, 0.1)\n",
    "    return img\n",
    "\n",
    "\n",
    "dropout_aug = lambda img: dropout(img, DIM=IMG_READ_SIZE, PROBABILITY=0.5, CT=8, SZ=0.2)\n",
    "transform_aug = imgaug.Transform(dim=IMG_READ_SIZE)\n",
    "\n",
    "\n",
    "def basic_augmentation_pipeline(ds: tf.data.Dataset, dim=None, batch_size=None) -> tf.data.Dataset:\n",
    "    ds = ds.map(lambda i, o: (transform_aug(i), o), num_parallel_calls=AUTO)\n",
    "    ds = ds.map(lambda i, o: (base_aug(i), o), num_parallel_calls=AUTO)\n",
    "    return ds"
   ]
  },
  {
   "cell_type": "code",
   "execution_count": 13,
   "metadata": {
    "execution": {
     "iopub.execute_input": "2020-08-14T15:08:18.012953Z",
     "iopub.status.busy": "2020-08-14T15:08:18.002593Z",
     "iopub.status.idle": "2020-08-14T15:08:18.027674Z",
     "shell.execute_reply": "2020-08-14T15:08:18.027018Z"
    },
    "papermill": {
     "duration": 0.043853,
     "end_time": "2020-08-14T15:08:18.027803",
     "exception": false,
     "start_time": "2020-08-14T15:08:17.983950",
     "status": "completed"
    },
    "tags": []
   },
   "outputs": [],
   "source": [
    "def get_dataset(files, augment=False, repeat=False, shuffle=False, labeled=True, batch_size=16, drop_remainder=False, \n",
    "                dim=256, read_dim=None\n",
    "               ) -> tf.data.Dataset:\n",
    "    if read_dim is None:\n",
    "        read_dim = dim\n",
    "    \n",
    "    ds = tf.data.TFRecordDataset(files, num_parallel_reads=AUTO)\n",
    "    ds = ds.cache()\n",
    "    \n",
    "    if repeat:\n",
    "        ds = ds.repeat()\n",
    "    \n",
    "    if shuffle: \n",
    "        ds = ds.shuffle(1024 * 8)\n",
    "        opt = tf.data.Options()\n",
    "        opt.experimental_deterministic = False\n",
    "        ds = ds.with_options(opt)\n",
    "        \n",
    "    if labeled: \n",
    "        ds = ds.map(read_labeled_tfrecord, num_parallel_calls=AUTO)\n",
    "    else:\n",
    "        ds = ds.map(read_unlabeled_tfrecord, num_parallel_calls=AUTO)\n",
    "    ds = ds.map(lambda i, o: (prepare_image(i), o), num_parallel_calls=AUTO)\n",
    "\n",
    "    if augment:\n",
    "        ds = basic_augmentation_pipeline(ds, batch_size=8 * batch_size, dim=read_dim) \n",
    "        if isinstance(augment, list):\n",
    "            for a in augment:\n",
    "                ds = ds.map(a, num_parallel_calls=AUTO)\n",
    "        \n",
    "    ds = ds.map(lambda i, o: (tf.image.resize(i, [dim, dim]), o), num_parallel_calls=AUTO)\n",
    "    ds = ds.batch(batch_size, drop_remainder=drop_remainder)\n",
    "    ds = ds.prefetch(AUTO)\n",
    "    return ds\n",
    "\n",
    "\n",
    "def get_balanced_dataset(files, augment=False, repeat=False, shuffle=False, batch_size=16, drop_remainder=False, \n",
    "                         dim=256, read_dim=None, pos_ratio=False) -> tf.data.Dataset:\n",
    "    if read_dim is None:\n",
    "        read_dim = dim\n",
    "    \n",
    "    ds = tf.data.TFRecordDataset(files, num_parallel_reads=AUTO)\n",
    "    ds = ds.cache()\n",
    "    \n",
    "    if repeat:\n",
    "        ds = ds.repeat()\n",
    "    \n",
    "    ds = ds.map(read_labeled_tfrecord, num_parallel_calls=AUTO)\n",
    "        \n",
    "    ds0, ds1 = balance.separate_by_target(ds)\n",
    "    ds0 = ds.map(lambda i, o: (prepare_image(i), o), num_parallel_calls=AUTO)\n",
    "    ds1 = ds.map(lambda i, o: (prepare_image(i), o), num_parallel_calls=AUTO)\n",
    "    ds = balance.merge_ds(ds0, ds1, pos_ratio)\n",
    "    if shuffle: \n",
    "        ds = ds.shuffle(1024)\n",
    "        opt = tf.data.Options()\n",
    "        opt.experimental_deterministic = False\n",
    "        ds = ds.with_options(opt)\n",
    "    \n",
    "    if augment:\n",
    "        ds = basic_augmentation_pipeline(ds, batch_size=8 * batch_size, dim=read_dim) \n",
    "        if isinstance(augment, list):\n",
    "            for a in augment:\n",
    "                ds = ds.map(a, num_parallel_calls=AUTO)\n",
    "    ds = ds.map(lambda i, o: (tf.image.resize(i, [dim, dim]), o), num_parallel_calls=AUTO)\n",
    "        \n",
    "    ds = ds.batch(batch_size, drop_remainder=drop_remainder)\n",
    "    ds = ds.prefetch(AUTO)\n",
    "    return ds"
   ]
  },
  {
   "cell_type": "markdown",
   "execution_count": null,
   "metadata": {
    "papermill": {
     "duration": 0.009427,
     "end_time": "2020-08-14T15:08:18.047094",
     "exception": false,
     "start_time": "2020-08-14T15:08:18.037667",
     "status": "completed"
    },
    "tags": []
   },
   "source": [
    "## Model building"
   ]
  },
  {
   "cell_type": "code",
   "execution_count": 14,
   "metadata": {
    "execution": {
     "iopub.execute_input": "2020-08-14T15:08:18.082942Z",
     "iopub.status.busy": "2020-08-14T15:08:18.082057Z",
     "iopub.status.idle": "2020-08-14T15:08:18.085215Z",
     "shell.execute_reply": "2020-08-14T15:08:18.084610Z"
    },
    "papermill": {
     "duration": 0.02867,
     "end_time": "2020-08-14T15:08:18.085349",
     "exception": false,
     "start_time": "2020-08-14T15:08:18.056679",
     "status": "completed"
    },
    "tags": []
   },
   "outputs": [],
   "source": [
    "def build_model(dim=128, ef=0):\n",
    "    inp = keras.layers.Input(shape=(dim,dim,3))\n",
    "    base = getattr(efnet, 'EfficientNetB%d' % ef)(input_shape=(dim, dim, 3), weights='imagenet', include_top=False)\n",
    "    x = base(inp)\n",
    "    x = keras.layers.GlobalAveragePooling2D()(x)\n",
    "    x = keras.layers.Dropout(0.3)(x)\n",
    "    #x = keras.layers.Dense(1024)(x)\n",
    "    #x = keras.layers.Dropout(0.2)(x)\n",
    "    x = keras.layers.Dense(512)(x)\n",
    "    x = keras.layers.Dropout(0.4)(x)\n",
    "    x = keras.layers.Dense(256)(x)\n",
    "    x = keras.layers.Dropout(0.3)(x)\n",
    "    x = keras.layers.Dense(128)(x)\n",
    "    \n",
    "    x = keras.layers.Dense(1)(x)\n",
    "    x = keras.layers.Activation('sigmoid', dtype='float32')(x)\n",
    "    model = keras.Model(inputs=inp,outputs=x)\n",
    "    opt = keras.optimizers.Adam(learning_rate=1e-3)\n",
    "    if LOSS_TYPE.upper() == 'BCE':\n",
    "        loss = keras.losses.BinaryCrossentropy(**LOSS_PARAMS)\n",
    "    elif LOSS_TYPE.upper() == 'FOCAL':\n",
    "        loss = losses.BinaryFocalLoss(**LOSS_PARAMS)\n",
    "    model.compile(optimizer=opt, loss=loss, metrics=['AUC'])\n",
    "    return model"
   ]
  },
  {
   "cell_type": "markdown",
   "execution_count": null,
   "metadata": {
    "papermill": {
     "duration": 0.009573,
     "end_time": "2020-08-14T15:08:18.104902",
     "exception": false,
     "start_time": "2020-08-14T15:08:18.095329",
     "status": "completed"
    },
    "tags": []
   },
   "source": [
    "## Learning schedule"
   ]
  },
  {
   "cell_type": "code",
   "execution_count": 15,
   "metadata": {
    "execution": {
     "iopub.execute_input": "2020-08-14T15:08:18.138326Z",
     "iopub.status.busy": "2020-08-14T15:08:18.137561Z",
     "iopub.status.idle": "2020-08-14T15:08:18.952429Z",
     "shell.execute_reply": "2020-08-14T15:08:18.952989Z"
    },
    "papermill": {
     "duration": 0.838359,
     "end_time": "2020-08-14T15:08:18.953146",
     "exception": false,
     "start_time": "2020-08-14T15:08:18.114787",
     "status": "completed"
    },
    "tags": []
   },
   "outputs": [
    {
     "data": {
      "image/png": "[encoded data removed]",
      "text/plain": [
       "<Figure size 720x360 with 2 Axes>"
      ]
     },
     "metadata": {
      "needs_background": "light"
     },
     "output_type": "display_data"
    }
   ],
   "source": [
    "mult       = 1\n",
    "lr_start   = 6e-6\n",
    "lr_max     = 1.45e-6 * GLOBAL_BATCH_SIZE\n",
    "lr_min     = 1e-6\n",
    "lr_ramp_ep = 5\n",
    "lr_sus_ep  = 0\n",
    "lr_decay   = 0.85\n",
    "\n",
    "\n",
    "def lrfn(epoch):\n",
    "    if epoch < lr_ramp_ep:\n",
    "        lr = (lr_max - lr_start) / lr_ramp_ep * epoch + lr_start\n",
    "    elif epoch < lr_ramp_ep + lr_sus_ep:\n",
    "        lr = lr_max\n",
    "    else:\n",
    "        lr = (lr_max - lr_min) * lr_decay**(epoch - lr_ramp_ep - lr_sus_ep) + lr_min\n",
    "    return lr * mult\n",
    "    \n",
    "\n",
    "plt.figure(figsize=(10, 5))\n",
    "plt.subplot(1, 2, 1)\n",
    "plt.plot([lrfn(e) for e in range(EPOCHS)])\n",
    "plt.xlabel('Epoch'); plt.ylabel('LR')\n",
    "plt.subplot(1, 2, 2)\n",
    "plt.plot([lrfn(e) for e in range(EPOCHS)])\n",
    "plt.xlabel('Epoch'); plt.ylabel('Log LR')\n",
    "plt.yscale('log');"
   ]
  },
  {
   "cell_type": "markdown",
   "execution_count": null,
   "metadata": {
    "papermill": {
     "duration": 0.009994,
     "end_time": "2020-08-14T15:08:18.973675",
     "exception": false,
     "start_time": "2020-08-14T15:08:18.963681",
     "status": "completed"
    },
    "tags": []
   },
   "source": [
    "# Training"
   ]
  },
  {
   "cell_type": "code",
   "execution_count": 16,
   "metadata": {
    "execution": {
     "iopub.execute_input": "2020-08-14T15:08:18.999988Z",
     "iopub.status.busy": "2020-08-14T15:08:18.998950Z",
     "iopub.status.idle": "2020-08-14T15:08:19.002778Z",
     "shell.execute_reply": "2020-08-14T15:08:19.002031Z"
    },
    "papermill": {
     "duration": 0.018853,
     "end_time": "2020-08-14T15:08:19.002901",
     "exception": false,
     "start_time": "2020-08-14T15:08:18.984048",
     "status": "completed"
    },
    "tags": []
   },
   "outputs": [],
   "source": [
    "# # build checkpoint folder\n",
    "# CKPT_FOLDER = \"../working/ckpt\"\n",
    "# if not os.path.exists(CKPT_FOLDER):\n",
    "#     os.mkdir(CKPT_FOLDER)\n",
    "# # build folds\n",
    "# folds = list(model_selection.KFold(n_splits=FOLDS, shuffle=True, random_state=SEED).split(np.arange(15)))\n",
    "# testiness = pd.read_csv(\"../input/spicv-spicy-vi-make-your-cv-more-testy/testiness.csv\")\n",
    "# #\n",
    "# TOTAL_POS = 581 + 2858 * INCLUDE_2019 + 1651 * INCLUDE_2018 + 580 * INCLUDE_MALIGNANT"
   ]
  },
  {
   "cell_type": "code",
   "execution_count": 17,
   "metadata": {
    "execution": {
     "iopub.execute_input": "2020-08-14T15:08:19.034227Z",
     "iopub.status.busy": "2020-08-14T15:08:19.033078Z",
     "iopub.status.idle": "2020-08-14T15:08:19.036755Z",
     "shell.execute_reply": "2020-08-14T15:08:19.036017Z"
    },
    "papermill": {
     "duration": 0.0235,
     "end_time": "2020-08-14T15:08:19.036884",
     "exception": false,
     "start_time": "2020-08-14T15:08:19.013384",
     "status": "completed"
    },
    "tags": []
   },
   "outputs": [],
   "source": [
    "# VERBOSE = 1\n",
    "# PLOT    = 1\n",
    "\n",
    "# histories = []\n",
    "# df_oof = pd.DataFrame(); df_res = pd.DataFrame()\n",
    "# t_start = time.time()\n",
    "# for fold, (idTrain, idValid) in enumerate(folds):\n",
    "#     print(\"#\" * 68)\n",
    "#     print((\"#\" * 20 + \"\\t\\tFold %d\\t\\t\" + \"#\" * 20) % fold)\n",
    "#     print(\"#\" * 68)\n",
    "#     # prepare TPU\n",
    "#     if DEVICE == 'TPU':\n",
    "#         if tpu: \n",
    "#             tf.tpu.experimental.initialize_tpu_system(tpu)\n",
    "#     # build fold train-valid split   \n",
    "#     fold_valid_files = [f for f in train_files if any([int(re.match(\"^train([0-9]+)\", f.split(\"/\")[-1]).group(1)) % 15 == i for i in idValid])]\n",
    "#     fold_valid_files = [f for f in fold_valid_files if GCS_PATH1 in f] # only data from the original dataset\n",
    "#     # fold_train_files = [f for f in train_files if any([int(re.match(\"^train([0-9]+)\", f.split(\"/\")[-1]).group(1)) % 15 == i for i in idTrain])]\n",
    "#     fold_train_files = [f for f in train_files if f not in fold_valid_files]\n",
    "#     np.random.shuffle(fold_train_files)\n",
    "#     print(\"Train files: %d\\t\\t Valid files: %d\" % (len(fold_train_files), len(fold_valid_files)))\n",
    "#     # build model and set precision policy\n",
    "#     K.clear_session()   \n",
    "#     if DEVICE == 'TPU':\n",
    "#         keras.mixed_precision.experimental.set_policy('mixed_bfloat16')\n",
    "#     with strategy.scope():\n",
    "#         model = build_model(dim=IMG_SIZE, ef=EFF_NET)\n",
    "#     # callbacks\n",
    "#     FOLD_CKPT_FOLDER = os.path.join(CKPT_FOLDER, \"fold%d\" % fold)\n",
    "#     if not os.path.exists(FOLD_CKPT_FOLDER):\n",
    "#         os.mkdir(FOLD_CKPT_FOLDER)\n",
    "#     callbacks =[\n",
    "#         keras.callbacks.ModelCheckpoint(os.path.join(FOLD_CKPT_FOLDER, \"model_fold%d_e{epoch:02d}.h5\" % fold), save_weights_only=True),\n",
    "#         keras.callbacks.LearningRateScheduler(lrfn)\n",
    "#     ]    \n",
    "#     # build ds\n",
    "#     if BALANCE_POS_RATIO:\n",
    "#         print(\"Using balanced dataset with pos_ratio = %d%%\" % int(100 * BALANCE_POS_RATIO))\n",
    "#         ds_train = get_balanced_dataset(fold_train_files, repeat=True,  augment=True,  drop_remainder=True,  shuffle=True,  \n",
    "#                                         pos_ratio=BALANCE_POS_RATIO,\n",
    "#                                         dim=IMG_SIZE, read_dim=IMG_READ_SIZE, batch_size=GLOBAL_BATCH_SIZE)\n",
    "#         FOLD_POS = TOTAL_POS * (FOLDS - 1) / FOLDS\n",
    "#         STEPS = int(FOLD_POS / BALANCE_POS_RATIO / GLOBAL_BATCH_SIZE)\n",
    "#     else:\n",
    "#         print(\"Using unbalanced dataset\")\n",
    "#         ds_train = get_dataset(fold_train_files, repeat=True,  augment=[dropout_aug],  drop_remainder=True,  shuffle=True,  \n",
    "#                                dim=IMG_SIZE, read_dim=IMG_READ_SIZE, batch_size=GLOBAL_BATCH_SIZE)\n",
    "#         STEPS = int(count_data_items(fold_train_files) / GLOBAL_BATCH_SIZE)\n",
    "#     ds_valid = get_dataset(fold_valid_files, repeat=False, augment=False, drop_remainder=False, shuffle=False, \n",
    "#                            dim=IMG_SIZE, read_dim=IMG_READ_SIZE, batch_size=GLOBAL_BATCH_SIZE * TBM)\n",
    "#     # train\n",
    "    \n",
    "#     print(\"Training...\")\n",
    "#     history = model.fit(\n",
    "#                             ds_train,\n",
    "#         validation_data   = ds_valid,\n",
    "#         epochs            = EPOCHS,\n",
    "#         steps_per_epoch   = STEPS,\n",
    "#         verbose           = VERBOSE,\n",
    "#         callbacks         = callbacks,\n",
    "#         validation_freq   = VALID_FREQ\n",
    "#     )\n",
    "#     histories.append(history)    \n",
    "    \n",
    "#     # SWA\n",
    "#     ckpt_files = np.sort(tf.io.gfile.glob(os.path.join(FOLD_CKPT_FOLDER, \"*.h5\")))\n",
    "#     ckpt_files_fow_swa = ckpt_files[-N_SWA:]\n",
    "#     if len(ckpt_files_fow_swa) > 1:\n",
    "#         with strategy.scope():\n",
    "#             model = average.average_weights(ckpt_files_fow_swa, decay=SWA_DECAY, model=model)\n",
    "#     for f in ckpt_files:\n",
    "#         os.remove(f)\n",
    "#     model.save(os.path.join(CKPT_FOLDER, \"model_fold%d.h5\" % fold))\n",
    "#     # VALID\n",
    "#     ds_valid = get_dataset(fold_valid_files, augment=TTA >= 1, repeat=True, dim=IMG_SIZE, read_dim=IMG_READ_SIZE, batch_size=GLOBAL_BATCH_SIZE * TBM, drop_remainder=True)\n",
    "#     ct_valid = count_data_items(fold_valid_files); STEPS = int(np.ceil(TTA * ct_valid / GLOBAL_BATCH_SIZE / TBM))\n",
    "#     fold_valid_pred = model.predict(ds_valid, steps=STEPS, verbose=1)\n",
    "#     fold_valid_pred = fold_valid_pred[:ct_valid * TTA,]\n",
    "#     ds_valid = get_dataset(fold_valid_files, augment=False, repeat=False, dim=IMG_SIZE, batch_size=GLOBAL_BATCH_SIZE * TBM, drop_remainder=False, labeled=False)\n",
    "#     fold_valid_names = np.concatenate([np.array([ni.decode(\"utf-8\") for ni in n.numpy()]) for n in ds_valid.map(lambda i, n: n)], 0)\n",
    "    \n",
    "#     fold_df = pd.DataFrame({'image_name': np.tile(fold_valid_names, [TTA]), 'pred': fold_valid_pred.squeeze(), 'fold': fold})\n",
    "#     df_oof = pd.concat([df_oof, fold_df])\n",
    "#     fold_df['image_name'] = fold_df['image_name'].str.replace('_downsampled', '')\n",
    "#     fold_df = fold_df.groupby('image_name').mean().reset_index()\n",
    "#     fold_df = fold_df.merge(df_base_train[['image_name', 'patient_id', 'target']], on='image_name').merge(testiness, on='image_name')\n",
    "#     fold_df['fold'] = fold\n",
    "#     auc  = metrics.roc_auc_score(fold_df.target, fold_df.pred)\n",
    "    \n",
    "#     # TEST\n",
    "#     ds_test = get_dataset(test_files, augment=TTA >= 1, repeat=True, dim=IMG_SIZE, read_dim=IMG_READ_SIZE, batch_size=GLOBAL_BATCH_SIZE * TBM, drop_remainder=True, labeled=False)\n",
    "#     ct_test = count_data_items(test_files); STEPS = int(np.ceil(TTA * ct_test / GLOBAL_BATCH_SIZE / TBM))\n",
    "#     fold_test_pred = model.predict(ds_test.map(lambda i, l: i), steps=STEPS, verbose=1)\n",
    "#     fold_test_pred = fold_test_pred[:ct_test * TTA,]\n",
    "#     ds_test = get_dataset(test_files, augment=False, repeat=False, dim=IMG_SIZE, batch_size=GLOBAL_BATCH_SIZE * TBM, drop_remainder=False, labeled=False)\n",
    "#     fold_test_names = np.concatenate([np.array([ni.decode(\"utf-8\") for ni in n.numpy()]) for n in ds_test.map(lambda i, n: n)], 0)\n",
    "    \n",
    "#     fold_res = pd.DataFrame({'image_name': np.tile(fold_test_names, [TTA]), 'pred': fold_test_pred.squeeze(), 'fold': fold})\n",
    "#     df_res = pd.concat([df_res, fold_res])\n",
    "    \n",
    "#     # time\n",
    "#     used_time_till_now = time.time() - t_start\n",
    "#     time_per_fold = used_time_till_now / (fold + 1)\n",
    "#     print(\"Validation AUC last epoch = %.4f\" % history.history['val_auc'][-1])\n",
    "#     print(\"Validation AUC  (TTA %2d) = %.4f\" % (TTA, auc))\n",
    "#     print(\"Total time = %ds\\t\\tTime per fold = %ds\" % (int(used_time_till_now), int(time_per_fold)))\n",
    "    \n",
    "#     # plot\n",
    "#     if PLOT:\n",
    "#         plt.figure(figsize=(16, 4))\n",
    "#         plt.subplot(1, 2, 1)\n",
    "#         plt.plot(history.history['loss'], color='tab:blue', marker='o')\n",
    "#         plt.plot(range(VALID_FREQ - 1, EPOCHS, VALID_FREQ), history.history['val_loss'], color='tab:blue', marker='x', linestyle=':')\n",
    "#         plt.yscale('log')\n",
    "#         plt.subplot(1, 2, 2)\n",
    "#         plt.plot(history.history['auc'], color='tab:red', marker='o')\n",
    "#         plt.plot(range(VALID_FREQ - 1, EPOCHS, VALID_FREQ), history.history['val_auc'], color='tab:red', marker='x', linestyle=':')\n",
    "#         plt.show()\n",
    "    \n",
    "#     del model, ds_train, ds_valid, ds_test\n",
    "#     print(\"\\n\\n\")\n",
    "    \n",
    "#     if (fold + 1) < FOLDS:\n",
    "#         # time: if next iteration will exceed the time budget, abort\n",
    "#         time_till_next_fold = used_time_till_now + time_per_fold\n",
    "#         if time_till_next_fold > TIME_BUDGET:\n",
    "#             print(\"Forecasted total time till next fold completion = %d (budget = %d)\" % (time_till_next_fold, TIME_BUDGET))\n",
    "#             break\n",
    "#     pass"
   ]
  },
  {
   "cell_type": "code",
   "execution_count": 18,
   "metadata": {
    "execution": {
     "iopub.execute_input": "2020-08-14T15:08:19.063932Z",
     "iopub.status.busy": "2020-08-14T15:08:19.063146Z",
     "iopub.status.idle": "2020-08-14T15:08:19.066807Z",
     "shell.execute_reply": "2020-08-14T15:08:19.066051Z"
    },
    "papermill": {
     "duration": 0.019306,
     "end_time": "2020-08-14T15:08:19.066929",
     "exception": false,
     "start_time": "2020-08-14T15:08:19.047623",
     "status": "completed"
    },
    "tags": []
   },
   "outputs": [],
   "source": [
    "# avgh = dict()\n",
    "# for history in histories:\n",
    "#     for k in history.history.keys():\n",
    "#         if k in avgh.keys():\n",
    "#             avgh[k] = np.concatenate([avgh[k], np.array(history.history[k]).reshape(-1, 1)], 1)\n",
    "#         else:\n",
    "#             avgh[k] = np.array(history.history[k]).reshape(-1, 1)\n",
    "# plt.figure(figsize=(16, 4))\n",
    "# plt.subplot(1, 2, 1)\n",
    "# plt.title('Log Loss')\n",
    "# plt.plot(avgh['loss'], marker='o', color='tab:blue', alpha=0.2)\n",
    "# plt.plot(avgh['loss'].mean(1), color='tab:blue')\n",
    "# plt.plot(range(VALID_FREQ - 1, EPOCHS, VALID_FREQ), avgh['val_loss'], color='tab:blue', alpha=0.2, linestyle=\":\")\n",
    "# plt.plot(range(VALID_FREQ - 1, EPOCHS, VALID_FREQ), avgh['val_loss'].mean(1), marker='x', color='tab:blue', linestyle=\":\")\n",
    "# plt.yscale('log')\n",
    "# plt.subplot(1, 2, 2)\n",
    "# plt.title('AUC')\n",
    "# plt.plot(avgh['auc'], marker='o', color='tab:red', alpha=0.2)\n",
    "# plt.plot(avgh['auc'].mean(1), color='tab:red')\n",
    "# plt.plot(range(VALID_FREQ - 1, EPOCHS, VALID_FREQ), avgh['val_auc'], color='tab:red', alpha=0.2, linestyle=\":\")\n",
    "# plt.plot(range(VALID_FREQ - 1, EPOCHS, VALID_FREQ), avgh['val_auc'].mean(1), marker='x', color='tab:red', linestyle=\":\");"
   ]
  },
  {
   "cell_type": "markdown",
   "execution_count": null,
   "metadata": {
    "papermill": {
     "duration": 0.010219,
     "end_time": "2020-08-14T15:08:19.087787",
     "exception": false,
     "start_time": "2020-08-14T15:08:19.077568",
     "status": "completed"
    },
    "tags": []
   },
   "source": [
    "## TTA Analysis"
   ]
  },
  {
   "cell_type": "code",
   "execution_count": 19,
   "metadata": {
    "execution": {
     "iopub.execute_input": "2020-08-14T15:08:19.114463Z",
     "iopub.status.busy": "2020-08-14T15:08:19.113686Z",
     "iopub.status.idle": "2020-08-14T15:08:19.117283Z",
     "shell.execute_reply": "2020-08-14T15:08:19.116632Z"
    },
    "papermill": {
     "duration": 0.018901,
     "end_time": "2020-08-14T15:08:19.117406",
     "exception": false,
     "start_time": "2020-08-14T15:08:19.098505",
     "status": "completed"
    },
    "tags": []
   },
   "outputs": [],
   "source": [
    "# R = 5\n",
    "# df = df_oof.merge(df_base_train[['image_name', 'patient_id', 'target']], on='image_name').merge(testiness, on='image_name')\n",
    "# plt.figure(figsize=(15, 5))\n",
    "# for N in range(1, TTA + 1):\n",
    "#     aucs = []; caucs = []\n",
    "#     for r in range(R):\n",
    "#         df_i = df.sample(frac=1.0).groupby('image_name').tail(N).groupby('image_name').mean().reset_index()\n",
    "#         aucs.append(metrics.roc_auc_score(df_i.target, df_i.pred))\n",
    "#         caucs.append(metrics.roc_auc_score(df_i.target, df_i.pred, sample_weight=df_i.testiness))\n",
    "#     plt.scatter([N] * R, aucs, color='tab:blue', alpha=0.05)\n",
    "#     plt.scatter(N, sum(aucs) / R, color='tab:blue', alpha=0.9)\n",
    "# plt.xlabel(\"TTA\"); plt.ylabel(\"AUC\");"
   ]
  },
  {
   "cell_type": "code",
   "execution_count": 20,
   "metadata": {
    "execution": {
     "iopub.execute_input": "2020-08-14T15:08:19.145505Z",
     "iopub.status.busy": "2020-08-14T15:08:19.144729Z",
     "iopub.status.idle": "2020-08-14T15:08:19.529329Z",
     "shell.execute_reply": "2020-08-14T15:08:19.528699Z"
    },
    "papermill": {
     "duration": 0.401394,
     "end_time": "2020-08-14T15:08:19.529467",
     "exception": false,
     "start_time": "2020-08-14T15:08:19.128073",
     "status": "completed"
    },
    "tags": []
   },
   "outputs": [
    {
     "ename": "NameError",
     "evalue": "name 'df_oof' is not defined",
     "output_type": "error",
     "traceback": [
      "\u001b[0;31m---------------------------------------------------------------------------\u001b[0m",
      "\u001b[0;31mNameError\u001b[0m                                 Traceback (most recent call last)",
      "\u001b[0;32m<ipython-input-20-e25045c712ba>\u001b[0m in \u001b[0;36m<module>\u001b[0;34m\u001b[0m\n\u001b[0;32m----> 1\u001b[0;31m \u001b[0mxxx\u001b[0m \u001b[0;34m=\u001b[0m \u001b[0mdf_oof\u001b[0m\u001b[0;34m.\u001b[0m\u001b[0mgroupby\u001b[0m\u001b[0;34m(\u001b[0m\u001b[0;34m'image_name'\u001b[0m\u001b[0;34m)\u001b[0m\u001b[0;34m.\u001b[0m\u001b[0mmean\u001b[0m\u001b[0;34m(\u001b[0m\u001b[0;34m)\u001b[0m\u001b[0;34m.\u001b[0m\u001b[0mreset_index\u001b[0m\u001b[0;34m(\u001b[0m\u001b[0;34m)\u001b[0m\u001b[0;34m.\u001b[0m\u001b[0mmerge\u001b[0m\u001b[0;34m(\u001b[0m\u001b[0mdf_base_train\u001b[0m\u001b[0;34m,\u001b[0m \u001b[0mon\u001b[0m\u001b[0;34m=\u001b[0m\u001b[0;34m'image_name'\u001b[0m\u001b[0;34m)\u001b[0m\u001b[0;34m\u001b[0m\u001b[0;34m\u001b[0m\u001b[0m\n\u001b[0m\u001b[1;32m      2\u001b[0m \u001b[0mprint\u001b[0m\u001b[0;34m(\u001b[0m\u001b[0;34m\"OOF AUC (TTA %d) = %.4f\"\u001b[0m \u001b[0;34m%\u001b[0m \u001b[0;34m(\u001b[0m\u001b[0mTTA\u001b[0m\u001b[0;34m,\u001b[0m \u001b[0mmetrics\u001b[0m\u001b[0;34m.\u001b[0m\u001b[0mroc_auc_score\u001b[0m\u001b[0;34m(\u001b[0m\u001b[0mxxx\u001b[0m\u001b[0;34m.\u001b[0m\u001b[0mtarget\u001b[0m\u001b[0;34m,\u001b[0m \u001b[0mxxx\u001b[0m\u001b[0;34m.\u001b[0m\u001b[0mpred\u001b[0m\u001b[0;34m)\u001b[0m\u001b[0;34m)\u001b[0m\u001b[0;34m)\u001b[0m\u001b[0;34m\u001b[0m\u001b[0;34m\u001b[0m\u001b[0m\n",
      "\u001b[0;31mNameError\u001b[0m: name 'df_oof' is not defined"
     ]
    }
   ],
   "source": [
    "xxx = df_oof.groupby('image_name').mean().reset_index().merge(df_base_train, on='image_name')\n",
    "print(\"OOF AUC (TTA %d) = %.4f\" % (TTA, metrics.roc_auc_score(xxx.target, xxx.pred)))"
   ]
  },
  {
   "cell_type": "code",
   "execution_count": 21,
   "metadata": {
    "execution": {
     "iopub.execute_input": "2020-08-14T15:08:19.560278Z",
     "iopub.status.busy": "2020-08-14T15:08:19.559152Z",
     "iopub.status.idle": "2020-08-14T15:08:19.562810Z",
     "shell.execute_reply": "2020-08-14T15:08:19.562059Z"
    },
    "papermill": {
     "duration": 0.022059,
     "end_time": "2020-08-14T15:08:19.562938",
     "exception": false,
     "start_time": "2020-08-14T15:08:19.540879",
     "status": "completed"
    },
    "tags": []
   },
   "outputs": [],
   "source": [
    "# df_res.to_csv('../working/test_res_all.csv', index=False)\n",
    "# df_oof.to_csv('../working/oof_res_all.csv', index=False)"
   ]
  },
  {
   "cell_type": "code",
   "execution_count": 22,
   "metadata": {
    "execution": {
     "iopub.execute_input": "2020-08-14T15:08:19.590713Z",
     "iopub.status.busy": "2020-08-14T15:08:19.589716Z",
     "iopub.status.idle": "2020-08-14T15:08:19.592924Z",
     "shell.execute_reply": "2020-08-14T15:08:19.592307Z"
    },
    "papermill": {
     "duration": 0.018985,
     "end_time": "2020-08-14T15:08:19.593051",
     "exception": false,
     "start_time": "2020-08-14T15:08:19.574066",
     "status": "completed"
    },
    "tags": []
   },
   "outputs": [],
   "source": [
    "# df_res[['image_name', 'pred']].groupby('image_name').mean().reset_index().rename({'pred': 'target'}, axis=1).to_csv(\"submission.csv\", index=False)"
   ]
  },
  {
   "cell_type": "code",
   "execution_count": null,
   "metadata": {
    "papermill": {
     "duration": 0.010862,
     "end_time": "2020-08-14T15:08:19.615085",
     "exception": false,
     "start_time": "2020-08-14T15:08:19.604223",
     "status": "completed"
    },
    "tags": []
   },
   "outputs": [],
   "source": []
  }
 ],
 "metadata": {
  "kernelspec": {
   "display_name": "Python 3",
   "language": "python",
   "name": "python3"
  },
  "language_info": {
   "codemirror_mode": {
    "name": "ipython",
    "version": 3
   },
   "file_extension": ".py",
   "mimetype": "text/x-python",
   "name": "python",
   "nbconvert_exporter": "python",
   "pygments_lexer": "ipython3",
   "version": "3.7.6"
  },
  "papermill": {
   "duration": 45.963707,
   "end_time": "2020-08-14T15:08:19.734935",
   "environment_variables": {},
   "exception": null,
   "input_path": "__notebook__.ipynb",
   "output_path": "__notebook__.ipynb",
   "parameters": {},
   "start_time": "2020-08-14T15:07:33.771228",
   "version": "2.1.0"
  }
 },
 "nbformat": 4,
 "nbformat_minor": 4
}
